{
  "nbformat": 4,
  "nbformat_minor": 0,
  "metadata": {
    "colab": {
      "name": "Workshop_01.02.22_list_reverse.ipynb",
      "provenance": [],
      "collapsed_sections": [],
      "authorship_tag": "ABX9TyNzwJW0PSXitIes7ZoeI0nD",
      "include_colab_link": true
    },
    "kernelspec": {
      "name": "python3",
      "display_name": "Python 3"
    },
    "language_info": {
      "name": "python"
    }
  },
  "cells": [
    {
      "cell_type": "markdown",
      "metadata": {
        "id": "view-in-github",
        "colab_type": "text"
      },
      "source": [
        "<a href=\"https://colab.research.google.com/github/tariksitki/Workshop-Teamwork/blob/main/Workshop_01_02_22_list_reverse.ipynb\" target=\"_parent\"><img src=\"https://colab.research.google.com/assets/colab-badge.svg\" alt=\"Open In Colab\"/></a>"
      ]
    },
    {
      "cell_type": "code",
      "execution_count": 5,
      "metadata": {
        "colab": {
          "base_uri": "https://localhost:8080/"
        },
        "id": "kAIVfYGGVWoC",
        "outputId": "38d70494-7b0f-4f6c-bb0b-e7c9cee063a0"
      },
      "outputs": [
        {
          "output_type": "stream",
          "name": "stdout",
          "text": [
            "Enter a sentence: ben sen\n",
            "['sen', 'ben']\n"
          ]
        }
      ],
      "source": [
        "# reverse 1. yöntem\n",
        "\n",
        "a = input(\"Enter a sentence please : \").split()\n",
        "b = a[::-1]\n",
        "print(b)\n"
      ]
    },
    {
      "cell_type": "code",
      "source": [
        ""
      ],
      "metadata": {
        "id": "xUiFN7oJVfQ5"
      },
      "execution_count": 21,
      "outputs": []
    },
    {
      "cell_type": "code",
      "source": [
        "## Ikinci yöntem:\n",
        "\n",
        "a = input(\"Enter a sentence please : \").split()\n",
        "\n",
        "a.reverse()\n",
        "\n",
        "print(a)"
      ],
      "metadata": {
        "colab": {
          "base_uri": "https://localhost:8080/"
        },
        "id": "lS4VjM7GY97u",
        "outputId": "abbe0fea-f08d-40c2-85f8-b277a435bbd5"
      },
      "execution_count": 9,
      "outputs": [
        {
          "output_type": "stream",
          "name": "stdout",
          "text": [
            "Enter a sentence please : ben sen\n",
            "['sen', 'ben']\n"
          ]
        }
      ]
    },
    {
      "cell_type": "code",
      "source": [
        "### 3. Yöntem:\n",
        "\n",
        "a = input(\"Enter a sentence please : \").split()\n",
        "\n",
        "myreverse = list(reversed(a))\n",
        "\n",
        "print(myreverse)"
      ],
      "metadata": {
        "colab": {
          "base_uri": "https://localhost:8080/"
        },
        "id": "ob1PqDKFY-A5",
        "outputId": "19814402-8657-440d-923a-2c42ddb6d270"
      },
      "execution_count": 14,
      "outputs": [
        {
          "output_type": "stream",
          "name": "stdout",
          "text": [
            "Enter a sentence please : ben sen\n",
            "['sen', 'ben']\n"
          ]
        }
      ]
    },
    {
      "cell_type": "code",
      "source": [
        "###  4. Method  for loop: \n",
        "\n",
        "user = input(\"Please enter a sentence: \").split()\n",
        "empty = []\n",
        "\n",
        "for i in range(len(user)-1, -1, -1):\n",
        "    empty.append(user[i])\n",
        "\n",
        "print(empty)"
      ],
      "metadata": {
        "colab": {
          "base_uri": "https://localhost:8080/"
        },
        "id": "_d9iISy1VfUA",
        "outputId": "17681bb1-3bfb-4756-949e-8c5e13360e3d"
      },
      "execution_count": 18,
      "outputs": [
        {
          "output_type": "stream",
          "name": "stdout",
          "text": [
            "Please enter a sentence: ben sen\n",
            "['sen', 'ben']\n"
          ]
        }
      ]
    },
    {
      "cell_type": "code",
      "source": [
        ""
      ],
      "metadata": {
        "id": "1KtNqWoBVfW9"
      },
      "execution_count": null,
      "outputs": []
    },
    {
      "cell_type": "code",
      "source": [
        ""
      ],
      "metadata": {
        "id": "CqaU_d1zcgSZ"
      },
      "execution_count": null,
      "outputs": []
    },
    {
      "cell_type": "code",
      "source": [
        ""
      ],
      "metadata": {
        "id": "qXslvaR7cgUl"
      },
      "execution_count": 21,
      "outputs": []
    },
    {
      "cell_type": "code",
      "source": [
        ""
      ],
      "metadata": {
        "id": "ocygAHaycgWT"
      },
      "execution_count": null,
      "outputs": []
    },
    {
      "cell_type": "code",
      "source": [
        ""
      ],
      "metadata": {
        "id": "5UBk5EfScgbf"
      },
      "execution_count": null,
      "outputs": []
    },
    {
      "cell_type": "code",
      "source": [
        ""
      ],
      "metadata": {
        "id": "K2K0sRWxVfaS"
      },
      "execution_count": null,
      "outputs": []
    }
  ]
}